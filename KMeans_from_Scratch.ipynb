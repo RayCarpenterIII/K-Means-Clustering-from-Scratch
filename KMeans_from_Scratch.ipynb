{
 "cells": [
  {
   "cell_type": "markdown",
   "id": "52e9aa87-7281-4149-b5b1-e846b789b340",
   "metadata": {},
   "source": [
    "# K-Means Clustering from Scratch\n",
    "The purpose of this script is to perform K-Means clustering from scratch using the Euclidean distance."
   ]
  },
  {
   "cell_type": "code",
   "execution_count": 1,
   "id": "253df926-0708-48a7-a6ba-b0b40919563f",
   "metadata": {},
   "outputs": [
    {
     "data": {
      "text/html": [
       "<table>\n",
       "<thead><tr><th scope=col>obs</th><th scope=col>x1</th><th scope=col>x2</th></tr></thead>\n",
       "<tbody>\n",
       "\t<tr><td>1       </td><td>4.858897</td><td>1.968298</td></tr>\n",
       "\t<tr><td>2       </td><td>2.113971</td><td>1.401783</td></tr>\n",
       "\t<tr><td>3       </td><td>3.556339</td><td>3.351848</td></tr>\n",
       "\t<tr><td>4       </td><td>5.596669</td><td>2.349453</td></tr>\n",
       "\t<tr><td>5       </td><td>3.067055</td><td>3.831192</td></tr>\n",
       "\t<tr><td>6       </td><td>2.813690</td><td>2.392194</td></tr>\n",
       "</tbody>\n",
       "</table>\n"
      ],
      "text/latex": [
       "\\begin{tabular}{r|lll}\n",
       " obs & x1 & x2\\\\\n",
       "\\hline\n",
       "\t 1        & 4.858897 & 1.968298\\\\\n",
       "\t 2        & 2.113971 & 1.401783\\\\\n",
       "\t 3        & 3.556339 & 3.351848\\\\\n",
       "\t 4        & 5.596669 & 2.349453\\\\\n",
       "\t 5        & 3.067055 & 3.831192\\\\\n",
       "\t 6        & 2.813690 & 2.392194\\\\\n",
       "\\end{tabular}\n"
      ],
      "text/markdown": [
       "\n",
       "| obs | x1 | x2 |\n",
       "|---|---|---|\n",
       "| 1        | 4.858897 | 1.968298 |\n",
       "| 2        | 2.113971 | 1.401783 |\n",
       "| 3        | 3.556339 | 3.351848 |\n",
       "| 4        | 5.596669 | 2.349453 |\n",
       "| 5        | 3.067055 | 3.831192 |\n",
       "| 6        | 2.813690 | 2.392194 |\n",
       "\n"
      ],
      "text/plain": [
       "  obs x1       x2      \n",
       "1 1   4.858897 1.968298\n",
       "2 2   2.113971 1.401783\n",
       "3 3   3.556339 3.351848\n",
       "4 4   5.596669 2.349453\n",
       "5 5   3.067055 3.831192\n",
       "6 6   2.813690 2.392194"
      ]
     },
     "metadata": {},
     "output_type": "display_data"
    }
   ],
   "source": [
    "# Create Dataframe.\n",
    "size = 10\n",
    "df = data.frame(obs  = seq(1,size),\n",
    "                  x1 = runif(size, 1, 5.9),\n",
    "                  x2 = runif(size, 1, 5.9)\n",
    "                  )\n",
    "head(df)"
   ]
  },
  {
   "cell_type": "code",
   "execution_count": 2,
   "id": "5779ce5f-9e56-4e21-a7b4-9c8e19cb3555",
   "metadata": {},
   "outputs": [
    {
     "data": {
      "image/png": "[encoded data removed]",
      "text/plain": [
       "plot without title"
      ]
     },
     "metadata": {},
     "output_type": "display_data"
    }
   ],
   "source": [
    "plot(df$x1, df$x2,\n",
    "           xlim = c(0,6), ylim = c(0,6))"
   ]
  },
  {
   "cell_type": "code",
   "execution_count": 3,
   "id": "ba66eaa7-5aca-44d1-8e66-29ec3942c5f0",
   "metadata": {},
   "outputs": [
    {
     "data": {
      "text/html": [
       "<table>\n",
       "<tbody>\n",
       "\t<tr><td>1</td><td>3</td></tr>\n",
       "\t<tr><td>2</td><td>4</td></tr>\n",
       "</tbody>\n",
       "</table>\n"
      ],
      "text/latex": [
       "\\begin{tabular}{ll}\n",
       "\t 1 & 3\\\\\n",
       "\t 2 & 4\\\\\n",
       "\\end{tabular}\n"
      ],
      "text/markdown": [
       "\n",
       "| 1 | 3 |\n",
       "| 2 | 4 |\n",
       "\n"
      ],
      "text/plain": [
       "     [,1] [,2]\n",
       "[1,] 1    3   \n",
       "[2,] 2    4   "
      ]
     },
     "metadata": {},
     "output_type": "display_data"
    }
   ],
   "source": [
    "# Assign clusters to random spots. \n",
    "cluster1 = c(1,2)\n",
    "cluster2 = c(3,4)\n",
    "random_centroids = array(c(1,2,3,4), dim = c(2,2))\n",
    "random_centroids"
   ]
  },
  {
   "attachments": {
    "9c276dd0-7440-4666-ad8f-87de4d005932.png": {
     "image/png": "[encoded data removed]"
    }
   },
   "cell_type": "markdown",
   "id": "b75c4ac5-496c-48b5-86d4-876083c931ad",
   "metadata": {
    "tags": []
   },
   "source": [
    "![image.png](attachment:9c276dd0-7440-4666-ad8f-87de4d005932.png)"
   ]
  },
  {
   "cell_type": "code",
   "execution_count": 4,
   "id": "65c39098-faac-44ad-bf5f-9077688989ef",
   "metadata": {},
   "outputs": [
    {
     "data": {
      "text/html": [
       "<table>\n",
       "<tbody>\n",
       "\t<tr><td>3.978528 </td><td>2.1260068</td></tr>\n",
       "\t<tr><td>1.184213 </td><td>1.8273875</td></tr>\n",
       "\t<tr><td>3.473623 </td><td>0.6582625</td></tr>\n",
       "\t<tr><td>4.790656 </td><td>2.6769197</td></tr>\n",
       "\t<tr><td>3.505476 </td><td>0.8338921</td></tr>\n",
       "\t<tr><td>2.286411 </td><td>0.6357196</td></tr>\n",
       "</tbody>\n",
       "</table>\n"
      ],
      "text/latex": [
       "\\begin{tabular}{ll}\n",
       "\t 3.978528  & 2.1260068\\\\\n",
       "\t 1.184213  & 1.8273875\\\\\n",
       "\t 3.473623  & 0.6582625\\\\\n",
       "\t 4.790656  & 2.6769197\\\\\n",
       "\t 3.505476  & 0.8338921\\\\\n",
       "\t 2.286411  & 0.6357196\\\\\n",
       "\\end{tabular}\n"
      ],
      "text/markdown": [
       "\n",
       "| 3.978528  | 2.1260068 |\n",
       "| 1.184213  | 1.8273875 |\n",
       "| 3.473623  | 0.6582625 |\n",
       "| 4.790656  | 2.6769197 |\n",
       "| 3.505476  | 0.8338921 |\n",
       "| 2.286411  | 0.6357196 |\n",
       "\n"
      ],
      "text/plain": [
       "     [,1]     [,2]     \n",
       "[1,] 3.978528 2.1260068\n",
       "[2,] 1.184213 1.8273875\n",
       "[3,] 3.473623 0.6582625\n",
       "[4,] 4.790656 2.6769197\n",
       "[5,] 3.505476 0.8338921\n",
       "[6,] 2.286411 0.6357196"
      ]
     },
     "metadata": {},
     "output_type": "display_data"
    }
   ],
   "source": [
    "# A function to find Eclidean Distance. Pass dataframe, first variable vector, second variable vector, and the cluster point.\n",
    "euclidean_distance = function(dataframe, x1, x2, cluster){\n",
    "    x1_c1_d = (dataframe$x1 - cluster[1])^2\n",
    "    x2_c1_d = (dataframe$x2 - cluster[1])^2\n",
    "    c1_e_d = sqrt(x1_c1_d + x2_c1_d)\n",
    "    return(c1_e_d)\n",
    "}\n",
    "\n",
    "# Test euclidean_distance calculator.\n",
    "total_distance = array(c(euclidean_distance(df, x1, x2, cluster1), euclidean_distance(df, x1, x2, cluster2)), dim = c(size, 2))\n",
    "head(total_distance)"
   ]
  },
  {
   "cell_type": "code",
   "execution_count": 5,
   "id": "cd0471c9-39a5-4ab0-b29b-a349ca750afd",
   "metadata": {
    "tags": []
   },
   "outputs": [
    {
     "data": {
      "text/html": [
       "<ol class=list-inline>\n",
       "\t<li>'green'</li>\n",
       "\t<li>'blue'</li>\n",
       "\t<li>'green'</li>\n",
       "\t<li>'green'</li>\n",
       "\t<li>'green'</li>\n",
       "\t<li>'green'</li>\n",
       "</ol>\n"
      ],
      "text/latex": [
       "\\begin{enumerate*}\n",
       "\\item 'green'\n",
       "\\item 'blue'\n",
       "\\item 'green'\n",
       "\\item 'green'\n",
       "\\item 'green'\n",
       "\\item 'green'\n",
       "\\end{enumerate*}\n"
      ],
      "text/markdown": [
       "1. 'green'\n",
       "2. 'blue'\n",
       "3. 'green'\n",
       "4. 'green'\n",
       "5. 'green'\n",
       "6. 'green'\n",
       "\n",
       "\n"
      ],
      "text/plain": [
       "[1] \"green\" \"blue\"  \"green\" \"green\" \"green\" \"green\""
      ]
     },
     "metadata": {},
     "output_type": "display_data"
    }
   ],
   "source": [
    "# Assign blue to cluster 1 and green to cluster 2.\n",
    "df$cluster_color =  ifelse(c(total_distance[,1] <= total_distance[,2]), 'blue', 'green')\n",
    "head(df$cluster_color)"
   ]
  },
  {
   "cell_type": "code",
   "execution_count": 6,
   "id": "85cf508b-481f-4cba-a76a-c0390d746a7d",
   "metadata": {},
   "outputs": [
    {
     "data": {
      "text/html": [
       "<ol class=list-inline>\n",
       "\t<li>1.40178289462347</li>\n",
       "\t<li>1.32967378697358</li>\n",
       "</ol>\n"
      ],
      "text/latex": [
       "\\begin{enumerate*}\n",
       "\\item 1.40178289462347\n",
       "\\item 1.32967378697358\n",
       "\\end{enumerate*}\n"
      ],
      "text/markdown": [
       "1. 1.40178289462347\n",
       "2. 1.32967378697358\n",
       "\n",
       "\n"
      ],
      "text/plain": [
       "[1] 1.401783 1.329674"
      ]
     },
     "metadata": {},
     "output_type": "display_data"
    }
   ],
   "source": [
    "df[,3][c(total_distance[,1] <= total_distance[,2])]"
   ]
  },
  {
   "cell_type": "code",
   "execution_count": 7,
   "id": "d3d8f370-afb4-4094-b664-8041049cd334",
   "metadata": {
    "tags": []
   },
   "outputs": [
    {
     "data": {
      "text/html": [
       "<table>\n",
       "<tbody>\n",
       "\t<tr><td>2.193979</td><td>1.365728</td></tr>\n",
       "\t<tr><td>4.471303</td><td>3.168238</td></tr>\n",
       "</tbody>\n",
       "</table>\n"
      ],
      "text/latex": [
       "\\begin{tabular}{ll}\n",
       "\t 2.193979 & 1.365728\\\\\n",
       "\t 4.471303 & 3.168238\\\\\n",
       "\\end{tabular}\n"
      ],
      "text/markdown": [
       "\n",
       "| 2.193979 | 1.365728 |\n",
       "| 4.471303 | 3.168238 |\n",
       "\n"
      ],
      "text/plain": [
       "     [,1]     [,2]    \n",
       "[1,] 2.193979 1.365728\n",
       "[2,] 4.471303 3.168238"
      ]
     },
     "metadata": {},
     "output_type": "display_data"
    }
   ],
   "source": [
    "# Start with random centroids then do the first iteration K-means clustering. \n",
    "new_centroids = random_centroids\n",
    "c1_2x = c(mean(df[,2][c(total_distance[,1] <= total_distance[,2])]), mean(df[,3][c(total_distance[,1] <= total_distance[,2])]))\n",
    "c1_2y = c(mean(df[,2][!c(total_distance[,1] <= total_distance[,2])]), mean(df[,3][!c(total_distance[,1] <=total_distance[,2])]))\n",
    "new_centroids[1,] = c1_2x\n",
    "new_centroids[2,] = c1_2y\n",
    "new_centroids"
   ]
  },
  {
   "cell_type": "code",
   "execution_count": 8,
   "id": "98e5e1b1-3092-4155-875f-47cb0892c2b1",
   "metadata": {},
   "outputs": [
    {
     "data": {
      "image/png": "[encoded data removed]",
      "text/plain": [
       "plot without title"
      ]
     },
     "metadata": {},
     "output_type": "display_data"
    }
   ],
   "source": [
    "# Plot Points\n",
    "plot(df$x1, df$x2,col = df$cluster_color, pch = 9,\n",
    "           xlim = c(0,6), ylim = c(0,6))\n",
    "# Plot Centroid.\n",
    "points(new_centroids[,1], new_centroids[,2], col=c(\"dark blue\", 'dark green'), pch = 19)"
   ]
  },
  {
   "cell_type": "code",
   "execution_count": 9,
   "id": "2a2a5c83-f014-440d-9a0e-9c50318bcdeb",
   "metadata": {},
   "outputs": [
    {
     "data": {
      "text/html": [
       "<table>\n",
       "<tbody>\n",
       "\t<tr><td>2.400549</td><td>1.707884</td></tr>\n",
       "\t<tr><td>4.708105</td><td>3.279102</td></tr>\n",
       "</tbody>\n",
       "</table>\n"
      ],
      "text/latex": [
       "\\begin{tabular}{ll}\n",
       "\t 2.400549 & 1.707884\\\\\n",
       "\t 4.708105 & 3.279102\\\\\n",
       "\\end{tabular}\n"
      ],
      "text/markdown": [
       "\n",
       "| 2.400549 | 1.707884 |\n",
       "| 4.708105 | 3.279102 |\n",
       "\n"
      ],
      "text/plain": [
       "     [,1]     [,2]    \n",
       "[1,] 2.400549 1.707884\n",
       "[2,] 4.708105 3.279102"
      ]
     },
     "metadata": {},
     "output_type": "display_data"
    },
    {
     "data": {
      "image/png": "[encoded data removed]",
      "text/plain": [
       "plot without title"
      ]
     },
     "metadata": {},
     "output_type": "display_data"
    }
   ],
   "source": [
    "kmeans_1_iteration = function(df, x1, x2, new_centroids){\n",
    "    # Compute distances from clusters to each point using euclidean_distance. \n",
    "    total_distance = array(c(euclidean_distance(df, x1, x2, new_centroids[1,]), euclidean_distance(df, x1, x2, new_centroids[2,])), dim = c(size, 2))\n",
    "    # Assign colors based on what cluster each point belongs to.\n",
    "    df$cluster_color =  ifelse(c(total_distance[,1] <= total_distance[,2]), 'blue', 'green')\n",
    "    c_x1 = c(mean(df[,3][c(total_distance[,1] <= total_distance[,2])]), mean(df[,2][c(total_distance[,1] <= total_distance[,2])]))\n",
    "    c_x2 = c(mean(df[,3][!c(total_distance[,1] <= total_distance[,2])]), mean(df[,2][!c(total_distance[,1] <=total_distance[,2])]))\n",
    "    new_centroids[1,] = rev(c_x1)\n",
    "    new_centroids[2,] = rev(c_x2)\n",
    "    # Plot Points\n",
    "    plot(df$x1, df$x2, col = df$cluster_color, pch = 9,\n",
    "           xlim = c(0,6), ylim = c(0,6))\n",
    "    # Plot Centroid.\n",
    "    points( new_centroids, col=c(\"dark blue\", 'dark green'), pch = 19)\n",
    "    return(new_centroids)\n",
    "}\n",
    "\n",
    "kmeans_1_iteration(df, x1, x2, new_centroids)"
   ]
  }
 ],
 "metadata": {
  "kernelspec": {
   "display_name": "R",
   "language": "R",
   "name": "ir"
  },
  "language_info": {
   "codemirror_mode": "r",
   "file_extension": ".r",
   "mimetype": "text/x-r-source",
   "name": "R",
   "pygments_lexer": "r",
   "version": "3.6.1"
  }
 },
 "nbformat": 4,
 "nbformat_minor": 5
}
